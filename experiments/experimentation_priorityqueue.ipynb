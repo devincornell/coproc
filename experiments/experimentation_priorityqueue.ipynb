{
 "cells": [
  {
   "cell_type": "code",
   "execution_count": 28,
   "metadata": {},
   "outputs": [],
   "source": [
    "import typing\n",
    "import queue\n",
    "import dataclasses"
   ]
  },
  {
   "cell_type": "code",
   "execution_count": 29,
   "metadata": {},
   "outputs": [],
   "source": [
    "@dataclasses.dataclass(order=True)\n",
    "class Item:\n",
    "    priority: int = 0\n"
   ]
  },
  {
   "cell_type": "code",
   "execution_count": 34,
   "metadata": {},
   "outputs": [],
   "source": [
    "import collections\n",
    "@dataclasses.dataclass\n",
    "class DevinPriorityQueue:\n",
    "    queues: typing.Dict[float, collections.deque[Item]] = dataclasses.field(default_factory=dict)\n",
    "    #priorities: typing.List[float] = dataclasses.field(default_factory=list)\n",
    "    #current_lowest_priority: float = None\n",
    "    current_priority: typing.Optional[float] = None\n",
    "    ct: int = 0\n",
    "    \n",
    "    def put(self, item: Item, priority: float):\n",
    "        # NOTE: adding a priority should be rare\n",
    "        if priority not in self.queues:\n",
    "            self.queues[priority] = collections.deque()\n",
    "            self.queues = {k:v for k,v in sorted(self.queues.items(), key=lambda x: x[0])}\n",
    "            \n",
    "        self.queues[priority].appendleft(item)\n",
    "        self.ct += 1\n",
    "        \n",
    "        # the queue will have at least one element\n",
    "        if self.current_priority is None or priority < self.current_priority:\n",
    "            self.current_priority = priority\n",
    "    \n",
    "    def get_all(self) -> typing.List[Item]:\n",
    "        '''Get all items in the queue, sorted by priority.'''\n",
    "        return [v for q in self.queues.values() for v in q]\n",
    "    \n",
    "    def get(self) -> Item:\n",
    "        if self.current_priority is None:\n",
    "            raise IndexError('Cannot pop from empty queue')\n",
    "        cq = self.current_queue\n",
    "        v = cq.pop()\n",
    "        self.ct -= 1\n",
    "        \n",
    "        if not len(cq):\n",
    "            self.current_priority = self.get_lowest_priority()\n",
    "        \n",
    "        return v\n",
    "    \n",
    "    @property\n",
    "    def current_queue(self) -> collections.deque:\n",
    "        try:\n",
    "            return self.queues[self.current_priority]\n",
    "        except KeyError:\n",
    "            raise IndexError('Cannot pop from empty queue') from e\n",
    "        \n",
    "    def get_lowest_priority(self) -> typing.Optional[float]:\n",
    "        '''Get the lowest priority queue that has items.'''\n",
    "        for p,q in self.queues.items():\n",
    "            if len(q):\n",
    "                return p\n",
    "        return None\n",
    "    \n",
    "    def empty(self) -> bool:\n",
    "        return self.ct == 0\n",
    "            \n",
    "    def size(self) -> int:\n",
    "        return self.ct"
   ]
  },
  {
   "cell_type": "code",
   "execution_count": 39,
   "metadata": {},
   "outputs": [
    {
     "name": "stdout",
     "output_type": "stream",
     "text": [
      "63.8 µs ± 661 ns per loop (mean ± std. dev. of 7 runs, 10000 loops each)\n",
      "297 µs ± 7.71 µs per loop (mean ± std. dev. of 7 runs, 1000 loops each)\n",
      "66 µs ± 1.26 µs per loop (mean ± std. dev. of 7 runs, 10000 loops each)\n",
      "302 µs ± 21.3 µs per loop (mean ± std. dev. of 7 runs, 1000 loops each)\n",
      "640 µs ± 3.01 µs per loop (mean ± std. dev. of 7 runs, 1000 loops each)\n",
      "3.12 ms ± 171 µs per loop (mean ± std. dev. of 7 runs, 100 loops each)\n",
      "668 ns ± 401 ns per loop (mean ± std. dev. of 7 runs, 1 loop each)\n",
      "1.36 µs ± 525 ns per loop (mean ± std. dev. of 7 runs, 1 loop each)\n",
      "321 ns ± 2.34 ns per loop (mean ± std. dev. of 7 runs, 1000000 loops each)\n",
      "855 ns ± 29 ns per loop (mean ± std. dev. of 7 runs, 1000000 loops each)\n",
      "330 ns ± 14.7 ns per loop (mean ± std. dev. of 7 runs, 1000000 loops each)\n",
      "846 ns ± 13.3 ns per loop (mean ± std. dev. of 7 runs, 1000000 loops each)\n"
     ]
    }
   ],
   "source": [
    "def assert_devin(items: typing.List[Item]):\n",
    "    q = DevinPriorityQueue()\n",
    "    for i in items:\n",
    "        q.put(i, i.priority)\n",
    "    assert([q.get() for _ in range(q.size())] == list(sorted(items)))\n",
    "\n",
    "def put_tester_devin(q: queue.PriorityQueue, items: typing.List[Item]):\n",
    "    for i in items:\n",
    "        q.put(i, i.priority)\n",
    "\n",
    "def put_tester_builtin(q: queue.PriorityQueue, items: typing.List[Item]):\n",
    "    for i in items:\n",
    "        q.put(i)\n",
    "\n",
    "def get_tester(q):\n",
    "    while not q.empty():\n",
    "        q.get()\n",
    "    return q\n",
    "\n",
    "test1 = [Item(1) for _ in range(100)]\n",
    "test2 = [Item(i) for i in range(100)]\n",
    "test3 = [Item(j) for i in range(100) for j in [i]*10]\n",
    "all_tests = test1 + test2 + test3\n",
    "\n",
    "# MAKE SURE DEVIN IS WORKING WELL!!\n",
    "assert_devin(all_tests)\n",
    "\n",
    "dq = DevinPriorityQueue()\n",
    "bq = queue.PriorityQueue()\n",
    "%timeit put_tester_devin(dq, test1)\n",
    "%timeit put_tester_builtin(bq, test1)\n",
    "%timeit put_tester_devin(dq, test2)\n",
    "%timeit put_tester_builtin(bq, test2)\n",
    "%timeit put_tester_devin(dq, test3)\n",
    "%timeit put_tester_builtin(bq, test3)\n",
    "\n",
    "%timeit get_tester(dq)\n",
    "%timeit get_tester(bq)\n",
    "%timeit get_tester(dq)\n",
    "%timeit get_tester(bq)\n",
    "%timeit get_tester(dq)\n",
    "%timeit get_tester(bq)"
   ]
  },
  {
   "cell_type": "code",
   "execution_count": 32,
   "metadata": {},
   "outputs": [
    {
     "name": "stdout",
     "output_type": "stream",
     "text": [
      "638 ns ± 436 ns per loop (mean ± std. dev. of 7 runs, 1 loop each)\n",
      "1.48 µs ± 439 ns per loop (mean ± std. dev. of 7 runs, 1 loop each)\n",
      "300 ns ± 10.9 ns per loop (mean ± std. dev. of 7 runs, 1000000 loops each)\n",
      "819 ns ± 3.34 ns per loop (mean ± std. dev. of 7 runs, 1000000 loops each)\n",
      "280 ns ± 3.33 ns per loop (mean ± std. dev. of 7 runs, 1000000 loops each)\n",
      "820 ns ± 4.01 ns per loop (mean ± std. dev. of 7 runs, 1000000 loops each)\n"
     ]
    }
   ],
   "source": [
    "\n",
    "\n"
   ]
  }
 ],
 "metadata": {
  "kernelspec": {
   "display_name": "Python 3 (ipykernel)",
   "language": "python",
   "name": "python3"
  },
  "language_info": {
   "codemirror_mode": {
    "name": "ipython",
    "version": 3
   },
   "file_extension": ".py",
   "mimetype": "text/x-python",
   "name": "python",
   "nbconvert_exporter": "python",
   "pygments_lexer": "ipython3",
   "version": "3.9.13"
  }
 },
 "nbformat": 4,
 "nbformat_minor": 2
}
