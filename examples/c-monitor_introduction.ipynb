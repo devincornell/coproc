{
 "cells": [
  {
   "cell_type": "markdown",
   "metadata": {},
   "source": [
    "# Introduction to `Monitor`\n",
    "\n",
    "The `Monitor` object is used to create a concurrent process that will monitor the host process memory and cpu usage, record notes, and plot current progress as needed."
   ]
  },
  {
   "cell_type": "code",
   "execution_count": 1,
   "metadata": {},
   "outputs": [],
   "source": [
    "import sys\n",
    "sys.path.append('..')\n",
    "import coproc"
   ]
  },
  {
   "cell_type": "markdown",
   "metadata": {},
   "source": [
    "## Receiving Stats Client-side\n",
    "\n",
    "In this example, I open the monitor and it runs while the inner code is executing. The monitor routinely checks for memory usage, and every so often sends a note to the monitor that is recorded. Uing `get_stats()` we can retrieve the statistics and plot it using `get_stats_plot()`. Notice that the notes appear in the figure."
   ]
  },
  {
   "cell_type": "code",
   "execution_count": 2,
   "metadata": {},
   "outputs": [
    {
     "name": "stderr",
     "output_type": "stream",
     "text": [
      "  0%|                                               | 0/1000000 [00:00<?, ?it/s]"
     ]
    },
    {
     "name": "stderr",
     "output_type": "stream",
     "text": [
      " 22%|██████▍                      | 221137/1000000 [00:00<00:00, 2211208.68it/s]"
     ]
    },
    {
     "name": "stdout",
     "output_type": "stream",
     "text": [
      "dump; new_note.details='dumping all memory'\n"
     ]
    },
    {
     "name": "stderr",
     "output_type": "stream",
     "text": [
      " 60%|██████████████████            | 600001/1000000 [00:00<00:00, 596357.84it/s]"
     ]
    },
    {
     "name": "stdout",
     "output_type": "stream",
     "text": [
      "dump; new_note.details='dumping all memory'\n"
     ]
    },
    {
     "name": "stderr",
     "output_type": "stream",
     "text": [
      "100%|█████████████████████████████| 1000000/1000000 [00:01<00:00, 798758.80it/s]"
     ]
    },
    {
     "name": "stdout",
     "output_type": "stream",
     "text": [
      "dump; new_note.details='dumping all memory'\n"
     ]
    },
    {
     "name": "stderr",
     "output_type": "stream",
     "text": [
      "\n"
     ]
    }
   ],
   "source": [
    "import time\n",
    "import tqdm\n",
    "with coproc.Monitor(snapshot_seconds=0.01) as m:\n",
    "        \n",
    "    l = list()\n",
    "    for i in tqdm.tqdm(range(int(1e6)), ncols=80):\n",
    "        l.append(i)\n",
    "        if i > 0 and i % int(3e5) == 0:\n",
    "            m.add_note('dump', 'dumping all memory', do_print=True)\n",
    "            l = list() # dump memory\n",
    "            \n",
    "            stats = m.get_stats()\n",
    "            p = stats.plot_memory(font_size=5)\n",
    "            p.draw()"
   ]
  }
 ],
 "metadata": {
  "kernelspec": {
   "display_name": "base",
   "language": "python",
   "name": "python3"
  },
  "language_info": {
   "codemirror_mode": {
    "name": "ipython",
    "version": 3
   },
   "file_extension": ".py",
   "mimetype": "text/x-python",
   "name": "python",
   "nbconvert_exporter": "python",
   "pygments_lexer": "ipython3",
   "version": "3.11.5"
  }
 },
 "nbformat": 4,
 "nbformat_minor": 2
}
