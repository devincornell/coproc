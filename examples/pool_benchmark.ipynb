{
 "cells": [
  {
   "cell_type": "markdown",
   "metadata": {},
   "source": [
    "# Benchmark Comparison `Pool`\n",
    "\n",
    "Where `coproc` was designed for situations where you want to maintain persistent, stateful processes, the `conproc.Pool` interface essentially emulates the behavior of `multiprocessing.Pool` in order to benchmark the performance of the underlying `WorkerResource` and `PriorityMessenger` systems.\n",
    "\n",
    "***RESULTS***: similar performance except when thread tasks are small and numerous, in which case `coproc` is much slower."
   ]
  },
  {
   "cell_type": "code",
   "execution_count": 1,
   "metadata": {},
   "outputs": [],
   "source": [
    "import sys\n",
    "sys.path.append('..')\n",
    "import coproc\n",
    "import multiprocessing"
   ]
  },
  {
   "cell_type": "code",
   "execution_count": 2,
   "metadata": {},
   "outputs": [
    {
     "name": "stdout",
     "output_type": "stream",
     "text": [
      "CPU times: user 1.59 s, sys: 108 ms, total: 1.69 s\n",
      "Wall time: 1.74 s\n",
      "CPU times: user 1.55 s, sys: 116 ms, total: 1.66 s\n",
      "Wall time: 1.71 s\n"
     ]
    }
   ],
   "source": [
    "import time\n",
    "def square(v):\n",
    "    time.sleep(0.05)\n",
    "    return v**2\n",
    "\n",
    "def map_square(vs, pool):\n",
    "    return pool.map(square, vs)\n",
    "\n",
    "n = 3\n",
    "values = list(range(100))\n",
    "cp = coproc.LazyPool(n)\n",
    "\n",
    "#map_square(values, cp)\n",
    "#map_square(values, cp)\n",
    "#map_square(values, cp)\n",
    "#map_square(values, cp)\n",
    "#%timeit map_square(values, cp)\n",
    "with coproc.Pool(n) as p:\n",
    "    %time map_square(values, cp)\n",
    "    %time map_square(values, p)"
   ]
  }
 ],
 "metadata": {
  "kernelspec": {
   "display_name": "Python 3 (ipykernel)",
   "language": "python",
   "name": "python3"
  },
  "language_info": {
   "codemirror_mode": {
    "name": "ipython",
    "version": 3
   },
   "file_extension": ".py",
   "mimetype": "text/x-python",
   "name": "python",
   "nbconvert_exporter": "python",
   "pygments_lexer": "ipython3",
   "version": "3.9.13"
  }
 },
 "nbformat": 4,
 "nbformat_minor": 2
}
