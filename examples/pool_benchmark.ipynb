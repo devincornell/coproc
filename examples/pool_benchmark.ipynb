{
 "cells": [
  {
   "cell_type": "markdown",
   "metadata": {},
   "source": [
    "# Benchmark Comparison `Pool`\n",
    "\n",
    "Where `coproc` was designed for situations where you want to maintain persistent, stateful processes, the `conproc.Pool` interface essentially emulates the behavior of `multiprocessing.Pool` in order to benchmark the performance of the underlying `WorkerResource` and `PriorityMessenger` systems."
   ]
  },
  {
   "cell_type": "code",
   "execution_count": 1,
   "metadata": {},
   "outputs": [],
   "source": [
    "import sys\n",
    "sys.path.append('..')\n",
    "import coproc\n",
    "import multiprocessing"
   ]
  },
  {
   "cell_type": "code",
   "execution_count": 9,
   "metadata": {},
   "outputs": [
    {
     "name": "stdout",
     "output_type": "stream",
     "text": [
      "193 ms ± 1.13 ms per loop (mean ± std. dev. of 7 runs, 1 loop each)\n",
      "85.2 ms ± 17.8 ms per loop (mean ± std. dev. of 7 runs, 10 loops each)\n"
     ]
    }
   ],
   "source": [
    "def square(v):\n",
    "    return v**2\n",
    "\n",
    "def coproc_square(vs):\n",
    "    with coproc.Pool(1, verbose=False) as m:\n",
    "        return m.map(square, vs)\n",
    "    \n",
    "def mp_square(vs):\n",
    "    with multiprocessing.Pool(1) as m:\n",
    "        return m.map(square, vs)\n",
    "\n",
    "values = list(range(1000))\n",
    "%timeit coproc_square(values)\n",
    "%timeit mp_square(values)"
   ]
  }
 ],
 "metadata": {
  "kernelspec": {
   "display_name": "Python 3 (ipykernel)",
   "language": "python",
   "name": "python3"
  },
  "language_info": {
   "codemirror_mode": {
    "name": "ipython",
    "version": 3
   },
   "file_extension": ".py",
   "mimetype": "text/x-python",
   "name": "python",
   "nbconvert_exporter": "python",
   "pygments_lexer": "ipython3",
   "version": "3.9.13"
  }
 },
 "nbformat": 4,
 "nbformat_minor": 2
}
