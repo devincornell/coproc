{
 "cells": [
  {
   "cell_type": "markdown",
   "metadata": {},
   "source": [
    "# Benchmark Comparison `Pool`\n",
    "\n",
    "Where `coproc` was designed for situations where you want to maintain persistent, stateful processes, the `conproc.Pool` interface essentially emulates the behavior of `multiprocessing.Pool` in order to benchmark the performance of the underlying `WorkerResource` and `PriorityMessenger` systems.\n",
    "\n",
    "***RESULTS***: similar performance except when thread tasks are small and numerous, in which case `coproc` is much slower."
   ]
  },
  {
   "cell_type": "code",
   "execution_count": 3,
   "metadata": {},
   "outputs": [],
   "source": [
    "import sys\n",
    "sys.path.append('..')\n",
    "import coproc\n",
    "import multiprocessing"
   ]
  },
  {
   "cell_type": "code",
   "execution_count": 8,
   "metadata": {},
   "outputs": [
    {
     "name": "stdout",
     "output_type": "stream",
     "text": [
      "1.73 s ± 861 µs per loop (mean ± std. dev. of 7 runs, 1 loop each)\n",
      "1.86 s ± 3.22 ms per loop (mean ± std. dev. of 7 runs, 1 loop each)\n"
     ]
    }
   ],
   "source": [
    "import time\n",
    "def square(v):\n",
    "    time.sleep(0.05)\n",
    "    return v**2\n",
    "\n",
    "def coproc_square(vs, cores):\n",
    "    with coproc.Pool(cores, verbose=False) as m:\n",
    "        return m.map(square, vs)\n",
    "    \n",
    "def mp_square(vs, cores):\n",
    "    with multiprocessing.Pool(cores) as m:\n",
    "        return m.map(square, vs)\n",
    "\n",
    "n = 3\n",
    "values = list(range(100))\n",
    "%timeit coproc_square(values, n)\n",
    "%timeit mp_square(values, n)"
   ]
  }
 ],
 "metadata": {
  "kernelspec": {
   "display_name": "Python 3 (ipykernel)",
   "language": "python",
   "name": "python3"
  },
  "language_info": {
   "codemirror_mode": {
    "name": "ipython",
    "version": 3
   },
   "file_extension": ".py",
   "mimetype": "text/x-python",
   "name": "python",
   "nbconvert_exporter": "python",
   "pygments_lexer": "ipython3",
   "version": "3.9.13"
  }
 },
 "nbformat": 4,
 "nbformat_minor": 2
}
