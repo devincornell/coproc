{
 "cells": [
  {
   "cell_type": "code",
   "execution_count": 1,
   "metadata": {},
   "outputs": [],
   "source": [
    "import sys\n",
    "sys.path.append('../')\n",
    "import conproc"
   ]
  },
  {
   "cell_type": "code",
   "execution_count": 2,
   "metadata": {},
   "outputs": [
    {
     "data": {
      "text/plain": [
       "WorkerResource(worker_process_type=<class '__main__.EchoProcess'>, method=None, _proc=None, _messenger=None)"
      ]
     },
     "execution_count": 2,
     "metadata": {},
     "output_type": "execute_result"
    }
   ],
   "source": [
    "import os\n",
    "\n",
    "class EchoProcess(conproc.BaseWorkerProcess):\n",
    "    '''Process that sends back the same data it receives.'''\n",
    "    \n",
    "    def __call__(self):\n",
    "        '''Main process loop.'''\n",
    "        print(f'Starting process {os.getpid()}')\n",
    "        while True:\n",
    "            data = self.messenger.receive_data(blocking=True)\n",
    "            print(f'process {os.getpid()} received: {data}')\n",
    "            self.messenger.send_reply(data)\n",
    "\n",
    "resource = conproc.WorkerResource(EchoProcess)\n",
    "resource"
   ]
  },
  {
   "cell_type": "code",
   "execution_count": 3,
   "metadata": {},
   "outputs": [
    {
     "name": "stdout",
     "output_type": "stream",
     "text": [
      "Starting process 766121\n"
     ]
    },
    {
     "name": "stdout",
     "output_type": "stream",
     "text": [
      "process 766121 received: Hello, world!\n",
      "received: Hello, world!\n"
     ]
    }
   ],
   "source": [
    "with conproc.WorkerResource(EchoProcess) as w:\n",
    "    w.messenger.send_data_noreply('Hello, world!')\n",
    "    \n",
    "    print('received:', w.messenger.receive_data())"
   ]
  },
  {
   "cell_type": "code",
   "execution_count": 4,
   "metadata": {},
   "outputs": [
    {
     "name": "stdout",
     "output_type": "stream",
     "text": [
      "Starting process 766131\n"
     ]
    },
    {
     "name": "stdout",
     "output_type": "stream",
     "text": [
      "process 766131 received: Hello, world!\n",
      "w.messenger.remaining()=1\n",
      "received: Hello, world!\n",
      "w.messenger.remaining()=0\n"
     ]
    }
   ],
   "source": [
    "with conproc.WorkerResource(EchoProcess) as w:\n",
    "    w.messenger.send_request('Hello, world!')\n",
    "    \n",
    "    print(f'{w.messenger.remaining()=}')\n",
    "    \n",
    "    print('received:', w.messenger.receive_data())\n",
    "    \n",
    "    print(f'{w.messenger.remaining()=}')"
   ]
  },
  {
   "cell_type": "code",
   "execution_count": 8,
   "metadata": {},
   "outputs": [
    {
     "name": "stdout",
     "output_type": "stream",
     "text": [
      "Starting process 766245"
     ]
    },
    {
     "name": "stdout",
     "output_type": "stream",
     "text": [
      "\n",
      "process 766245 received: Hello, world!\n",
      "process 766245 received: Hello, world!\n",
      "process 766245 received: Hello, world!\n",
      "w.messenger.remaining()=3\n",
      "received: Hello, world!\n",
      "received: Hello, world!\n",
      "received: Hello, world!\n"
     ]
    }
   ],
   "source": [
    "with conproc.WorkerResource(EchoProcess) as w:\n",
    "    w.messenger.send_request('Hello, world!')\n",
    "    w.messenger.send_request('Hello, world!')\n",
    "    w.messenger.send_request('Hello, world!')\n",
    "    \n",
    "    print(f'{w.messenger.remaining()=}')\n",
    "    \n",
    "    while w.messenger.remaining() > 0:\n",
    "        print('received:', w.messenger.receive_data())"
   ]
  },
  {
   "cell_type": "code",
   "execution_count": 5,
   "metadata": {},
   "outputs": [
    {
     "name": "stdout",
     "output_type": "stream",
     "text": [
      "Starting process 766140\n",
      "resource.is_alive()=True\n",
      "resource.is_alive()=True\n",
      "process 766140 received: hello\n"
     ]
    },
    {
     "name": "stderr",
     "output_type": "stream",
     "text": [
      "Process ForkProcess-3:\n",
      "Traceback (most recent call last):\n",
      "  File \"/home/devin/anaconda3/lib/python3.9/multiprocessing/process.py\", line 315, in _bootstrap\n",
      "    self.run()\n",
      "  File \"/home/devin/anaconda3/lib/python3.9/multiprocessing/process.py\", line 108, in run\n",
      "    self._target(*self._args, **self._kwargs)\n",
      "  File \"/tmp/ipykernel_766078/439355911.py\", line 10, in __call__\n",
      "    data = self.messenger.receive_data(blocking=True)\n",
      "  File \"/DataDrive/projects/concurrent/examples/../conproc/messenger/prioritymessenger.py\", line 85, in receive_data\n",
      "    return self._receive_message(blocking=blocking).payload\n",
      "  File \"/DataDrive/projects/concurrent/examples/../conproc/messenger/prioritymessenger.py\", line 103, in _receive_message\n",
      "    raise ResourceRequestedClose(f'Resource requested that this process close.')\n",
      "conproc.messenger.exceptions.ResourceRequestedClose: Resource requested that this process close.\n"
     ]
    }
   ],
   "source": [
    "resource.start()\n",
    "print(f'{resource.is_alive()=}')\n",
    "\n",
    "resource.messenger.send_data_noreply('hello')\n",
    "print(f'{resource.is_alive()=}')\n",
    "\n",
    "#resource.messenger.send_close_request()\n",
    "#print(f'{resource.is_alive()=}')\n",
    "\n",
    "import time\n",
    "time.sleep(0.1)\n",
    "\n",
    "resource.join()"
   ]
  },
  {
   "cell_type": "code",
   "execution_count": 6,
   "metadata": {},
   "outputs": [
    {
     "name": "stdout",
     "output_type": "stream",
     "text": [
      "Starting process 766165\n"
     ]
    },
    {
     "ename": "AttributeError",
     "evalue": "'PriorityMessenger' object has no attribute 'request_data'",
     "output_type": "error",
     "traceback": [
      "\u001b[0;31m---------------------------------------------------------------------------\u001b[0m",
      "\u001b[0;31mAttributeError\u001b[0m                            Traceback (most recent call last)",
      "\u001b[0;32m/tmp/ipykernel_766078/664281422.py\u001b[0m in \u001b[0;36m<module>\u001b[0;34m\u001b[0m\n\u001b[1;32m      3\u001b[0m \u001b[0;31m# send a message and wait for each reply\u001b[0m\u001b[0;34m\u001b[0m\u001b[0;34m\u001b[0m\u001b[0m\n\u001b[1;32m      4\u001b[0m \u001b[0;32mfor\u001b[0m \u001b[0mi\u001b[0m \u001b[0;32min\u001b[0m \u001b[0mrange\u001b[0m\u001b[0;34m(\u001b[0m\u001b[0;36m3\u001b[0m\u001b[0;34m)\u001b[0m\u001b[0;34m:\u001b[0m\u001b[0;34m\u001b[0m\u001b[0;34m\u001b[0m\u001b[0m\n\u001b[0;32m----> 5\u001b[0;31m     \u001b[0mresource\u001b[0m\u001b[0;34m.\u001b[0m\u001b[0mmessenger\u001b[0m\u001b[0;34m.\u001b[0m\u001b[0mrequest_data\u001b[0m\u001b[0;34m(\u001b[0m\u001b[0;34mf'Hello, world {i}!'\u001b[0m\u001b[0;34m)\u001b[0m\u001b[0;34m\u001b[0m\u001b[0;34m\u001b[0m\u001b[0m\n\u001b[0m\u001b[1;32m      6\u001b[0m     \u001b[0mprint\u001b[0m\u001b[0;34m(\u001b[0m\u001b[0mresource\u001b[0m\u001b[0;34m.\u001b[0m\u001b[0mmessenger\u001b[0m\u001b[0;34m.\u001b[0m\u001b[0mreceive_data\u001b[0m\u001b[0;34m(\u001b[0m\u001b[0;34m)\u001b[0m\u001b[0;34m)\u001b[0m\u001b[0;34m\u001b[0m\u001b[0;34m\u001b[0m\u001b[0m\n\u001b[1;32m      7\u001b[0m \u001b[0;34m\u001b[0m\u001b[0m\n",
      "\u001b[0;31mAttributeError\u001b[0m: 'PriorityMessenger' object has no attribute 'request_data'"
     ]
    }
   ],
   "source": [
    "resource.start()\n",
    "\n",
    "# send a message and wait for each reply\n",
    "for i in range(3):\n",
    "    resource.messenger.request_data(f'Hello, world {i}!')\n",
    "    print(resource.messenger.receive_data())\n",
    "\n",
    "resource.terminate()"
   ]
  },
  {
   "cell_type": "code",
   "execution_count": null,
   "metadata": {},
   "outputs": [
    {
     "name": "stdout",
     "output_type": "stream",
     "text": [
      "3 are now in the receive queue\n",
      "Hello, world 0!\n",
      "2 remain\n",
      "Hello, world 1!\n",
      "1 remain\n",
      "Hello, world 2!\n",
      "0 remain\n"
     ]
    }
   ],
   "source": [
    "resource.start()\n",
    "\n",
    "# send a bunch of messages\n",
    "for i in range(3):\n",
    "    resource.messenger.request_data(f'Hello, world {i}!')\n",
    "\n",
    "print(f'{resource.messenger.remaining()} are now in the receive queue')\n",
    "\n",
    "# receive all of the messages\n",
    "while resource.messenger.remaining():\n",
    "    print(resource.messenger.receive_data())\n",
    "    print(resource.messenger.remaining(), 'remain')\n",
    "\n",
    "resource.terminate()"
   ]
  },
  {
   "cell_type": "code",
   "execution_count": null,
   "metadata": {},
   "outputs": [
    {
     "name": "stderr",
     "output_type": "stream",
     "text": [
      "Process ForkProcess-2:\n",
      "Traceback (most recent call last):\n",
      "  File \"/home/devin/anaconda3/lib/python3.9/multiprocessing/process.py\", line 315, in _bootstrap\n",
      "    self.run()\n",
      "  File \"/home/devin/anaconda3/lib/python3.9/multiprocessing/process.py\", line 108, in run\n",
      "    self._target(*self._args, **self._kwargs)\n",
      "  File \"/tmp/ipykernel_761161/2983712441.py\", line 11, in __call__\n",
      "    data = self.messenger.receive_data(blocking=True)\n",
      "  File \"/DataDrive/projects/concurrent/examples/../conproc/messenger/prioritymessenger.py\", line 85, in receive_data\n",
      "    return self._receive_message(blocking=blocking).payload\n"
     ]
    }
   ],
   "source": [
    "class EchoProcess:\n",
    "    '''Simply sends back the same data it receives.'''\n",
    "    \n",
    "    def __init__(self, messenger: conproc.PriorityMessenger):\n",
    "        '''Accept data that should be passed to the worker prior to starting.'''\n",
    "        self.messenger = messenger\n",
    "    \n",
    "    def __call__(self):\n",
    "        '''Main process loop.'''\n",
    "        while True:\n",
    "            data = self.messenger.receive_data(blocking=True)\n",
    "            print(f'process {os.getpid()} received: {data}')\n",
    "            self.messenger.send_reply(data)\n"
   ]
  },
  {
   "cell_type": "code",
   "execution_count": null,
   "metadata": {},
   "outputs": [
    {
     "data": {
      "text/plain": [
       "True"
      ]
     },
     "execution_count": 5,
     "metadata": {},
     "output_type": "execute_result"
    }
   ],
   "source": [
    "wr.is_alive()"
   ]
  },
  {
   "cell_type": "code",
   "execution_count": null,
   "metadata": {},
   "outputs": [
    {
     "data": {
      "text/plain": [
       "False"
      ]
     },
     "execution_count": 6,
     "metadata": {},
     "output_type": "execute_result"
    }
   ],
   "source": [
    "wr.messenger.available()"
   ]
  }
 ],
 "metadata": {
  "kernelspec": {
   "display_name": "Python 3 (ipykernel)",
   "language": "python",
   "name": "python3"
  },
  "language_info": {
   "codemirror_mode": {
    "name": "ipython",
    "version": 3
   },
   "file_extension": ".py",
   "mimetype": "text/x-python",
   "name": "python",
   "nbconvert_exporter": "python",
   "pygments_lexer": "ipython3",
   "version": "3.9.13"
  }
 },
 "nbformat": 4,
 "nbformat_minor": 2
}
