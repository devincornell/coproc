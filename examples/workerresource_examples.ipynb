{
 "cells": [
  {
   "cell_type": "code",
   "execution_count": 1,
   "metadata": {},
   "outputs": [],
   "source": [
    "import sys\n",
    "sys.path.append('../')\n",
    "import conproc"
   ]
  },
  {
   "cell_type": "code",
   "execution_count": 2,
   "metadata": {},
   "outputs": [
    {
     "data": {
      "text/plain": [
       "WorkerResource(worker_process_type=<class '__main__.EchoProcess'>, method=None, _proc=None, _messenger=None)"
      ]
     },
     "execution_count": 2,
     "metadata": {},
     "output_type": "execute_result"
    }
   ],
   "source": [
    "import os\n",
    "\n",
    "class EchoProcess(conproc.BaseWorkerProcess):\n",
    "    '''Process that sends back the same data it receives.'''\n",
    "    \n",
    "    def __call__(self):\n",
    "        '''Main process loop.'''\n",
    "        print(f'Starting process {os.getpid()}')\n",
    "        while True:\n",
    "            data = self.messenger.receive_data(blocking=True)\n",
    "            print(f'process {os.getpid()} received: {data}')\n",
    "            self.messenger.send_reply(data)\n",
    "\n",
    "resource = conproc.WorkerResource(EchoProcess)\n",
    "resource"
   ]
  },
  {
   "cell_type": "code",
   "execution_count": 3,
   "metadata": {},
   "outputs": [
    {
     "name": "stdout",
     "output_type": "stream",
     "text": [
      "Starting process 776895\n"
     ]
    },
    {
     "name": "stdout",
     "output_type": "stream",
     "text": [
      "process 776895 received: Hello, world!\n",
      "received: Hello, world!\n"
     ]
    }
   ],
   "source": [
    "with conproc.WorkerResource(EchoProcess) as w:\n",
    "    w.messenger.send_data_noreply('Hello, world!')\n",
    "    \n",
    "    print('received:', w.messenger.receive_data())"
   ]
  },
  {
   "cell_type": "code",
   "execution_count": 4,
   "metadata": {},
   "outputs": [
    {
     "name": "stdout",
     "output_type": "stream",
     "text": [
      "Starting process 776904\n",
      "process 776904 received: Hello, world!\n",
      "w.messenger.remaining()=1\n",
      "received: Hello, world!\n",
      "w.messenger.remaining()=0\n"
     ]
    }
   ],
   "source": [
    "with conproc.WorkerResource(EchoProcess) as w:\n",
    "    w.messenger.send_request('Hello, world!')\n",
    "    \n",
    "    print(f'{w.messenger.remaining()=}')\n",
    "    \n",
    "    print('received:', w.messenger.receive_data())\n",
    "    \n",
    "    print(f'{w.messenger.remaining()=}')"
   ]
  },
  {
   "cell_type": "code",
   "execution_count": 5,
   "metadata": {},
   "outputs": [
    {
     "name": "stdout",
     "output_type": "stream",
     "text": [
      "Starting process 776913\n",
      "process 776913 received: Hello, world!w.messenger.remaining()=3\n",
      "\n",
      "process 776913 received: Hello, world!\n",
      "process 776913 received: Hello, world!\n",
      "received: Hello, world!\n",
      "received: Hello, world!\n",
      "received: Hello, world!\n"
     ]
    }
   ],
   "source": [
    "with conproc.WorkerResource(EchoProcess) as w:\n",
    "    w.messenger.send_request('Hello, world!')\n",
    "    w.messenger.send_request('Hello, world!')\n",
    "    w.messenger.send_request('Hello, world!')\n",
    "    \n",
    "    print(f'{w.messenger.remaining()=}')\n",
    "    \n",
    "    while w.messenger.remaining() > 0:\n",
    "        print('received:', w.messenger.receive_data())"
   ]
  },
  {
   "cell_type": "code",
   "execution_count": 6,
   "metadata": {},
   "outputs": [],
   "source": [
    "import dataclasses\n",
    "            \n",
    "@dataclasses.dataclass\n",
    "class HighPriorityMessage:\n",
    "    value: int\n",
    "    priority: int = -1 # high priority\n",
    "    \n",
    "@dataclasses.dataclass\n",
    "class LowPriorityMessage:\n",
    "    value: int\n",
    "    priority: int = 1 # low priority"
   ]
  },
  {
   "cell_type": "code",
   "execution_count": 7,
   "metadata": {},
   "outputs": [
    {
     "name": "stdout",
     "output_type": "stream",
     "text": [
      "received: HighPriorityMessage(value=100, priority=-1)\n",
      "received: LowPriorityMessage(value=1, priority=1)\n",
      "received: LowPriorityMessage(value=2, priority=1)\n"
     ]
    }
   ],
   "source": [
    "class MyProcess:\n",
    "    '''Process that sends back the same data it receives.'''\n",
    "    def __init__(self, messenger: conproc.PriorityMessenger, verbose: bool = False):\n",
    "        self.messenger = messenger\n",
    "        self.verbose = verbose\n",
    "    \n",
    "    def __call__(self):\n",
    "        if self.verbose: print(f'Starting process {os.getpid()}')\n",
    "        \n",
    "        while True:\n",
    "            x = self.messenger.receive_data(blocking=True)\n",
    "            if x > 10:\n",
    "                self.messenger.send_reply(HighPriorityMessage(x))\n",
    "            else:\n",
    "                self.messenger.send_reply(LowPriorityMessage(x))\n",
    "\n",
    "import time\n",
    "\n",
    "with conproc.WorkerResource(MyProcess) as w:\n",
    "    w.messenger.send_request(1)\n",
    "    w.messenger.send_request(100)\n",
    "    w.messenger.send_request(2)\n",
    "    \n",
    "    time.sleep(0.1)\n",
    "    \n",
    "    while w.messenger.remaining() > 0:\n",
    "        print('received:', w.messenger.receive_data())\n"
   ]
  },
  {
   "cell_type": "code",
   "execution_count": null,
   "metadata": {},
   "outputs": [],
   "source": []
  },
  {
   "cell_type": "markdown",
   "metadata": {},
   "source": [
    "## Custom Worker Interfaces"
   ]
  },
  {
   "cell_type": "code",
   "execution_count": 8,
   "metadata": {},
   "outputs": [],
   "source": [
    "@dataclasses.dataclass\n",
    "class StartPrinting:\n",
    "    pass\n",
    "\n",
    "@dataclasses.dataclass\n",
    "class StopPrinting:\n",
    "    pass\n",
    "\n",
    "@dataclasses.dataclass\n",
    "class ChangePrintBehavior:\n",
    "    print_frequency: int\n",
    "    print_char: str\n",
    "    \n",
    "@dataclasses.dataclass\n",
    "class Receipt:\n",
    "    pass"
   ]
  },
  {
   "cell_type": "code",
   "execution_count": 9,
   "metadata": {},
   "outputs": [],
   "source": [
    "class AlreadyPrintingError(Exception):\n",
    "    '''Raised when user requests start but process is already printing.'''\n",
    "\n",
    "class AlreadyNotPrintingError(Exception):\n",
    "    '''Raised when user requests stop but process is already not printing.'''"
   ]
  },
  {
   "cell_type": "code",
   "execution_count": 10,
   "metadata": {},
   "outputs": [],
   "source": [
    "import typing\n",
    "\n",
    "@dataclasses.dataclass\n",
    "class PrintingProcess:\n",
    "    messenger: conproc.PriorityMessenger # every process must accept this\n",
    "    print_frequency: int # these must be set at worker start\n",
    "    print_char: str\n",
    "    keep_printing: bool # this can optionally be set\n",
    "    \n",
    "    def __call__(self):\n",
    "        print(f'{self.keep_printing=}')\n",
    "        while True:\n",
    "            try:\n",
    "                # if we're not printing, keep waiting for a new message\n",
    "                msg = self.messenger.receive_data(blocking = not self.keep_printing)\n",
    "            except IndexError:\n",
    "                msg = None\n",
    "                \n",
    "            if msg is not None:\n",
    "                self.handle_message(msg)\n",
    "                \n",
    "            if self.keep_printing:\n",
    "                print(self.print_char, end='', flush=True)\n",
    "                time.sleep(self.print_frequency)\n",
    "    \n",
    "    def handle_message(self, msg: typing.Union[StartPrinting, StopPrinting, ChangePrintBehavior]):\n",
    "        if isinstance(msg, StartPrinting):\n",
    "            if self.keep_printing:\n",
    "                self.messenger.send_error(AlreadyPrintingError())\n",
    "            self.keep_printing = True\n",
    "            \n",
    "        elif isinstance(msg, StopPrinting):\n",
    "            if not self.keep_printing:\n",
    "                self.messenger.send_error(AlreadyNotPrintingError())\n",
    "            self.keep_printing = False\n",
    "            \n",
    "        elif isinstance(msg, ChangePrintBehavior):\n",
    "            self.print_frequency = msg.print_frequency\n",
    "            self.print_char = msg.print_char\n",
    "            \n",
    "        else:\n",
    "            # process should die in this case\n",
    "            self.messenger.send_error(NotImplementedError(f'Unknown message type: {type(msg)}'))\n",
    "        \n",
    "        self.messenger.send_reply(Receipt())\n"
   ]
  },
  {
   "cell_type": "code",
   "execution_count": 11,
   "metadata": {},
   "outputs": [],
   "source": [
    "@dataclasses.dataclass\n",
    "class PrintProcessController:\n",
    "    messenger: conproc.PriorityMessenger\n",
    "    def start_printing(self):\n",
    "        self.messenger.send_request(StartPrinting())\n",
    "        return self.messenger.receive_data() # wait for receipt\n",
    "    \n",
    "    def stop_printing(self):\n",
    "        self.messenger.send_request(StopPrinting())\n",
    "        return self.messenger.receive_data() # wait for receipt\n",
    "    \n",
    "    def change_behavior(self, print_frequency: int, print_char: str):\n",
    "        self.messenger.send_request(ChangePrintBehavior(print_frequency, print_char))\n",
    "        return self.messenger.receive_data() # wait for receipt\n",
    "\n",
    "class Printer:\n",
    "    \n",
    "    def __init__(self, print_frequency: int, print_char: str, start_printing: bool = False):\n",
    "        # passed to PrintingProcess when starting\n",
    "        self.process_kwargs = dict(\n",
    "            print_frequency = print_frequency, \n",
    "            print_char = print_char, \n",
    "            keep_printing = start_printing\n",
    "        )\n",
    "        self.resource = conproc.WorkerResource(PrintingProcess)\n",
    "        \n",
    "    def __enter__(self) -> PrintProcessController:\n",
    "        self.resource.start(**self.process_kwargs)\n",
    "        return PrintProcessController(self.resource.messenger)\n",
    "    \n",
    "    def __exit__(self, *args):\n",
    "        self.resource.terminate()"
   ]
  },
  {
   "cell_type": "code",
   "execution_count": 13,
   "metadata": {},
   "outputs": [
    {
     "name": "stdout",
     "output_type": "stream",
     "text": [
      "self.keep_printing=False"
     ]
    },
    {
     "name": "stdout",
     "output_type": "stream",
     "text": [
      "\n",
      "\n",
      "----\n",
      "\n",
      "----\n",
      "xxxx\n",
      "----\n",
      "\n",
      "----\n",
      "yyyyyyyyyy\n",
      "----\n",
      "y"
     ]
    },
    {
     "name": "stderr",
     "output_type": "stream",
     "text": [
      "NoneType: None\n"
     ]
    },
    {
     "name": "stdout",
     "output_type": "stream",
     "text": [
      "Already not printing! oh well.\n"
     ]
    }
   ],
   "source": [
    "with Printer(print_frequency=0.05, print_char='x', start_printing=False) as p:\n",
    "    print('\\n----')\n",
    "    time.sleep(0.2) # shouldnot be printing\n",
    "    print('\\n----')\n",
    "    p.start_printing()\n",
    "    print('\\n----')\n",
    "    time.sleep(0.2) # should be printing\n",
    "    print('\\n----')\n",
    "    p.change_behavior(0.01, 'y')\n",
    "    print('\\n----')\n",
    "    time.sleep(0.2) # should be printing\n",
    "    p.stop_printing()\n",
    "    time.sleep(0.2) # should not be printing\n",
    "    \n",
    "    try: # this error is being sent by the printer process\n",
    "        p.stop_printing()\n",
    "    except AlreadyNotPrintingError:\n",
    "        print('Already not printing! oh well.')"
   ]
  }
 ],
 "metadata": {
  "kernelspec": {
   "display_name": "Python 3 (ipykernel)",
   "language": "python",
   "name": "python3"
  },
  "language_info": {
   "codemirror_mode": {
    "name": "ipython",
    "version": 3
   },
   "file_extension": ".py",
   "mimetype": "text/x-python",
   "name": "python",
   "nbconvert_exporter": "python",
   "pygments_lexer": "ipython3",
   "version": "3.9.13"
  }
 },
 "nbformat": 4,
 "nbformat_minor": 2
}
