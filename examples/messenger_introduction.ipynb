{
 "cells": [
  {
   "cell_type": "markdown",
   "metadata": {},
   "source": [
    "# Messaging Between Processes: `PriorityMessenger` and `MultiMessenger`\n",
    "\n",
    "The `coproc` messengers are wrappers around standard `multiprocessing.Pipe` objects that create an interface for exchange between processes. There are two primary messenger types that can be used for communications: `PriorityMessenger` and `MultiMessenger`. While they both support the request and channel interfaces, only `PriorityMessenger` supports priorities, as the name would imply. \n",
    "\n",
    "The diagram below shows how both the host and worker processes maintain separate messengers that allow them to communicate together. While I imagine that some of the messenger features will be most often used on one side or the other (for example, the request/reply interface), the messages are identical.\n",
    "\n",
    "![Overview diagram.](https://storage.googleapis.com/public_data_09324832787/coproc_diagram2.svg)\n",
    "\n",
    "### Sending Messages\n",
    "\n",
    "**Basic communication.**\n",
    "\n",
    "+ `send_norequest()` sends a message without expecting a reply. This is the most basic method for sending data between processes. Specify `channel_id` to send to a specific channel (`None` by default, which is actually a valid channel). The simplest use of messager would be to to send messages back and forth using `send_norequest()`. This is most similar to `pipe.send()` and `pipe.recv()` except that it manages multiple channels (see next section).\n",
    "\n",
    "1. **Channels.** Every message is associated with a channel, which can be any hashable object. \n",
    "    + You can specify the channel using the `channel_id` parameter of most send/receive functions, and the default is `None` - itself a valid, hashable channel id which you may use by default.\n",
    "\n",
    "\n",
    "2. **Requests.** Using special request and reply methods enables the messenger to track the number of requests sent and replies received so that it can wait for replies to a specific set of requests.\n",
    "    + The requesting process would use `send_request()` to send a request, and the other process would use `send_reply()` so that the requesting process knows that the message is a reply.\n",
    "    + Note that the request tracking happens on a per-channel basis, so you can send multiple requests on different channels and wait for replies to each set of requests.\n",
    "    + `send_request()` will send a message while also incrementing the count of requested messages for the given channel.\n",
    "    + `send_reply()` will send a message while also incrementing the count of received replies for the recipient channel.\n",
    "\n",
    "\n",
    "3. **Priorities.** By default, the `PriorityMessenger` looks for a `priority` attribute on any messages being sent, and will sort the messages into a priority queue, rather than a standard fifo queue. If the sent item does not have this attribute, by default it is set to `-inf`.\n",
    "\n",
    "\n",
    "4. **Special Messages.** There are several types of special messages that bypass the channel and priority queue interface - they are handled as soon as the messages are received (which occurs when any receive function is called), prior to placement in the queue.\n",
    "    + `send_error()` will send an exception object to the other messenger that will then be raised directly in the recipient process. I recommend using custom exceptions for this behavior.\n",
    "    + `send_close_request()` will send a message that directly raises a `ResourceRequestedClose` exception in the recipient process. Catch this exception in your processes to handle a shutdown. You may want to use this in conjunction with the `.join()` method, which waits for the process to finish.\n",
    "\n",
    "### Receiving Messages\n",
    "\n",
    "Any time one of the following receive methods is called, data will be transferred from the `multiprocessing.Pipe` into the message queue. The following diagram shows the basic flow of data from the pipe to the receive methods.\n",
    "\n",
    "![Messenger Diagram](https://storage.googleapis.com/public_data_09324832787/messaging_interface2.svg)\n",
    "\n",
    "The receive method you use depends on the desigred behavior.\n",
    "\n",
    "+ `available()` loads data from pipe into the queue, and returns the number of available messages on the specified channel. \n",
    "+ `receive_available()` calls `available()` and returns all available messages if there are any. Otherwise, returns an empty list.\n",
    "+ `receive_blocking()` blocks until a message is received on the specified channel, then returns the message.\n",
    "+ `receive_remaining()` yields replies on the specified channel until all outstanding requests have been replied to.\n",
    "\n",
    "# Example Usage\n",
    "\n",
    "Now I will give some examples for how to use the messenger interface."
   ]
  },
  {
   "cell_type": "code",
   "execution_count": 1,
   "metadata": {},
   "outputs": [],
   "source": [
    "import sys\n",
    "sys.path.append('../')\n",
    "import coproc\n",
    "\n",
    "import dataclasses\n",
    "import time"
   ]
  },
  {
   "cell_type": "markdown",
   "metadata": {},
   "source": [
    "## Choosing a Messenger\n",
    "\n",
    "While messengers can be used by themselves, they can be managed by `WorkerResource` objects by passing them to the `messenger_type` parameter of the constructor. See how `WorkerResource` creates two messengers: one for the host process and one for the worker process."
   ]
  },
  {
   "cell_type": "code",
   "execution_count": 2,
   "metadata": {},
   "outputs": [
    {
     "name": "stdout",
     "output_type": "stream",
     "text": [
      "process messenger: PriorityMessenger(pipe=<multiprocessing.connection.Connection object at 0x7f3991f16c10>, queue=PriorityMultiQueue(queues={}), request_ctr=RequestCtr(requests=Counter(), replies=Counter(), sent=Counter(), received=Counter()))\n"
     ]
    },
    {
     "name": "stdout",
     "output_type": "stream",
     "text": [
      "resource messenger: PriorityMessenger(pipe=<multiprocessing.connection.Connection object at 0x7f394a08f880>, queue=PriorityMultiQueue(queues={}), request_ctr=RequestCtr(requests=Counter(), replies=Counter(), sent=Counter(), received=Counter()))\n"
     ]
    }
   ],
   "source": [
    "@dataclasses.dataclass\n",
    "class ExampleProcess:\n",
    "    messenger: coproc.PriorityMessenger\n",
    "    \n",
    "    def __call__(self):\n",
    "        print(f'process messenger: {self.messenger}')\n",
    "\n",
    "worker = coproc.WorkerResource(\n",
    "    worker_process_type =  ExampleProcess,\n",
    "    messenger_type = coproc.PriorityMessenger,\n",
    ")\n",
    "with worker as w:\n",
    "    time.sleep(1)\n",
    "    print(f'resource messenger: {w.messenger}')"
   ]
  },
  {
   "cell_type": "markdown",
   "metadata": {},
   "source": [
    "## Messenger Interface\n",
    "\n",
    "Now I will give some examples for using the messenger interface.\n",
    "\n",
    "#### Send/receive and Channels\n",
    "\n",
    "In this example you can see how we send and receive the most basic messages messages on two separate channels over the same pipe. We use the `send_norequest()` method to send data to the other side, and specify the `channel_id` parameter of most send/receive methods to specify the channel."
   ]
  },
  {
   "cell_type": "code",
   "execution_count": 5,
   "metadata": {},
   "outputs": [
    {
     "name": "stdout",
     "output_type": "stream",
     "text": [
      "awaiting messages\n",
      "some messages were found\n",
      "awaiting messages\n"
     ]
    },
    {
     "name": "stdout",
     "output_type": "stream",
     "text": [
      "w.messenger.available()=0\n",
      "None\n",
      "None\n",
      "w.messenger.available()=0\n",
      "w.messenger.receive_blocking(CHANNEL_A)='hello'\n",
      "w.messenger.receive_blocking(CHANNEL_B)='hi'\n"
     ]
    }
   ],
   "source": [
    "CHANNEL_A = 1\n",
    "CHANNEL_B = 2\n",
    "\n",
    "@dataclasses.dataclass\n",
    "class EchoProcess1:\n",
    "    messenger: coproc.PriorityMessenger\n",
    "    def __call__(self):\n",
    "        while True:\n",
    "            print(f'awaiting messages')\n",
    "            self.messenger.await_available()\n",
    "            print(f'some messages were found')\n",
    "            for data in self.messenger.receive_available(CHANNEL_A):\n",
    "                self.messenger.send_norequest(data, CHANNEL_A)\n",
    "            \n",
    "            for data in self.messenger.receive_available(CHANNEL_B):\n",
    "                self.messenger.send_norequest(data, CHANNEL_B)\n",
    "            \n",
    "            #data = self.messenger.receive_blocking()\n",
    "            #print(f'worker received: {data}')\n",
    "            #self.messenger.send_norequest(data)\n",
    "\n",
    "with coproc.WorkerResource(EchoProcess1) as w:\n",
    "    print(f'{w.messenger.available()=}')\n",
    "    print(w.messenger.send_norequest('hello', channel_id=CHANNEL_A))\n",
    "    print(w.messenger.send_norequest('hi', channel_id=CHANNEL_B))\n",
    "    time.sleep(0.1) # wait for process to return it\n",
    "    \n",
    "    print(f'{w.messenger.available()=}')\n",
    "    print(f'{w.messenger.receive_blocking(CHANNEL_A)=}')\n",
    "    print(f'{w.messenger.receive_blocking(CHANNEL_B)=}')"
   ]
  },
  {
   "cell_type": "markdown",
   "metadata": {},
   "source": [
    "#### Request Interface\n",
    "\n",
    "In this example, I use `send_request()` and `send_reply()` to send and receive messages synchronously. The messenger will track the number of requests sent, and we can use `receive_remaining()` to wait for all expected replies to be received."
   ]
  },
  {
   "cell_type": "code",
   "execution_count": null,
   "metadata": {},
   "outputs": [
    {
     "name": "stdout",
     "output_type": "stream",
     "text": [
      "w.messenger.remaining()=0\n",
      "w.messenger.send_request(\"hello\")=None\n",
      "w.messenger.remaining()=1\n"
     ]
    },
    {
     "name": "stdout",
     "output_type": "stream",
     "text": [
      "w.messenger.receive_blocking()='hello'\n",
      "w.messenger.remaining()=0\n",
      "sending [None, None, None]\n",
      "w.messenger.remaining()=3\n",
      "0\n",
      "1\n",
      "2\n"
     ]
    }
   ],
   "source": [
    "@dataclasses.dataclass\n",
    "class EchoProcess2(coproc.BaseWorkerProcess):\n",
    "    def __call__(self):\n",
    "        while True:\n",
    "            data = self.messenger.receive_blocking()\n",
    "            self.messenger.send_reply(data)\n",
    "            \n",
    "with coproc.WorkerResource(EchoProcess2) as w:\n",
    "    print(f'{w.messenger.remaining()=}')\n",
    "    print(f'{w.messenger.send_request(\"hello\")=}')\n",
    "    print(f'{w.messenger.remaining()=}')\n",
    "    time.sleep(0.1)\n",
    "    print(f'{w.messenger.receive_blocking()=}')\n",
    "    print(f'{w.messenger.remaining()=}')\n",
    "    \n",
    "    print(f'sending {[w.messenger.send_request(i) for i in range(3)]}')\n",
    "    print(f'{w.messenger.remaining()=}')\n",
    "    for d in w.messenger.receive_remaining():\n",
    "        print(d)"
   ]
  },
  {
   "cell_type": "markdown",
   "metadata": {},
   "source": [
    "#### Priority Interface\n",
    "\n",
    "We can set the priority of messages by adding a `priority` attribute to the message - we used simple wrapper objects here to accomplish that. Notice that the process accesses the higher priority objects first.\n",
    "\n",
    "Note that the default priority is `-inf`, so any message without a priority will be sent to the back of the queue. In this example, we send messages with different priorities and see how they are received in order."
   ]
  },
  {
   "cell_type": "code",
   "execution_count": 11,
   "metadata": {},
   "outputs": [
    {
     "name": "stdout",
     "output_type": "stream",
     "text": [
      "HighPriorityMessage(text='high 0', priority=0)\n",
      "HighPriorityMessage(text='high 1', priority=0)\n",
      "HighPriorityMessage(text='high 2', priority=0)\n",
      "LowPriorityMessage(text='low 0', priority=1)\n",
      "LowPriorityMessage(text='low 1', priority=1)\n"
     ]
    },
    {
     "name": "stdout",
     "output_type": "stream",
     "text": [
      "LowPriorityMessage(text='low 2', priority=1)\n"
     ]
    }
   ],
   "source": [
    "@dataclasses.dataclass\n",
    "class PrintProcess(coproc.BaseWorkerProcess):\n",
    "    def __call__(self):\n",
    "        while True:\n",
    "            for data in self.messenger.receive_available():\n",
    "                #self.messenger.send_reply(data)\n",
    "                print(data)\n",
    "            time.sleep(1)\n",
    "\n",
    "@dataclasses.dataclass\n",
    "class HighPriorityMessage:\n",
    "    text: str\n",
    "    priority: int = 0 # lower is more improtant\n",
    "\n",
    "@dataclasses.dataclass\n",
    "class LowPriorityMessage:\n",
    "    text: str\n",
    "    priority: int = 1 # lower is more improtant\n",
    "            \n",
    "with coproc.WorkerResource(PrintProcess, coproc.PriorityMessenger) as w:\n",
    "    for i in range(3):\n",
    "        w.messenger.send_norequest(LowPriorityMessage(f'low {i}'))\n",
    "        w.messenger.send_norequest(HighPriorityMessage(f'high {i}'))\n",
    "        \n",
    "    time.sleep(0.1) # wait for process to finish. Should I use join here?"
   ]
  },
  {
   "cell_type": "markdown",
   "metadata": {},
   "source": [
    "#### Special Messages\n",
    "\n",
    "In this last example I demonstrate use of the special messages. The `send_error()` method sends an exception object to the other process, which will be raised directly in the other process. The `send_close_request()` method sends a message that raises a `ResourceRequestedClose` exception in the other process. This is useful for shutting down the process."
   ]
  },
  {
   "cell_type": "code",
   "execution_count": 19,
   "metadata": {},
   "outputs": [
    {
     "name": "stderr",
     "output_type": "stream",
     "text": [
      "Traceback (most recent call last):\n",
      "  File \"/tmp/ipykernel_1047367/3808203598.py\", line 6, in __call__\n",
      "    message = self.messenger.await_available()\n",
      "  File \"/DataDrive/projects/coproc/examples/../coproc/messenger/multimessenger.py\", line 121, in await_available\n",
      "    self._receive_and_handle()\n",
      "  File \"/DataDrive/projects/coproc/examples/../coproc/messenger/multimessenger.py\", line 133, in _receive_and_handle\n",
      "    self._handle_message(msg)\n",
      "  File \"/DataDrive/projects/coproc/examples/../coproc/messenger/multimessenger.py\", line 147, in _handle_message\n",
      "    raise ResourceRequestedClose(f'Resource requested that this process close.')\n",
      "coproc.messenger.exceptions.ResourceRequestedClose: Resource requested that this process close.\n"
     ]
    },
    {
     "name": "stdout",
     "output_type": "stream",
     "text": [
      "successfully caught value error sent from process\n"
     ]
    }
   ],
   "source": [
    "@dataclasses.dataclass\n",
    "class PrintProcess2(coproc.BaseWorkerProcess):\n",
    "    def __call__(self):\n",
    "        while True:\n",
    "            try:\n",
    "                message = self.messenger.await_available()\n",
    "                results = self.messenger.receive_available()\n",
    "            except coproc.ResourceRequestedClose as e:\n",
    "                self.messenger.send_error(ValueError('process was closed successfully'))\n",
    "                break # exits the process naturally\n",
    "            for data in results:\n",
    "                print(data)\n",
    "            \n",
    "with coproc.WorkerResource(PrintProcess2) as w:\n",
    "    w.messenger.send_norequest('message 1')\n",
    "    w.messenger.send_close_request()\n",
    "    \n",
    "    try:\n",
    "        w.messenger.await_available()\n",
    "    except ValueError as e:\n",
    "        print('successfully caught value error sent from process')\n",
    "        \n",
    "    time.sleep(0.1) # wait for process to finish. Should I use join here?"
   ]
  }
 ],
 "metadata": {
  "kernelspec": {
   "display_name": "Python 3 (ipykernel)",
   "language": "python",
   "name": "python3"
  },
  "language_info": {
   "codemirror_mode": {
    "name": "ipython",
    "version": 3
   },
   "file_extension": ".py",
   "mimetype": "text/x-python",
   "name": "python",
   "nbconvert_exporter": "python",
   "pygments_lexer": "ipython3",
   "version": "3.9.13"
  }
 },
 "nbformat": 4,
 "nbformat_minor": 2
}
