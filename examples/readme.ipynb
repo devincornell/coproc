{
 "cells": [
  {
   "cell_type": "code",
   "execution_count": 3,
   "metadata": {},
   "outputs": [],
   "source": [
    "import sys\n",
    "sys.path.append('../')\n",
    "import coproc\n",
    "\n",
    "import dataclasses"
   ]
  },
  {
   "cell_type": "code",
   "execution_count": 4,
   "metadata": {},
   "outputs": [
    {
     "name": "stdout",
     "output_type": "stream",
     "text": [
      "Hello, world!\n"
     ]
    }
   ],
   "source": [
    "@dataclasses.dataclass\n",
    "class EchoProcess(coproc.BaseWorkerProcess):\n",
    "    '''Simply echoes back received data.'''\n",
    "    def __call__(self):\n",
    "        while True:\n",
    "            try:\n",
    "                data = self.messenger.receive_blocking()\n",
    "            except coproc.ResourceRequestedClose:\n",
    "                break\n",
    "            self.messenger.send_reply(data)\n",
    "\n",
    "with coproc.WorkerResource(EchoProcess) as worker:\n",
    "    worker.messenger.send_request('Hello, world!')\n",
    "    print(worker.messenger.receive_blocking())"
   ]
  }
 ],
 "metadata": {
  "kernelspec": {
   "display_name": "Python 3 (ipykernel)",
   "language": "python",
   "name": "python3"
  },
  "language_info": {
   "codemirror_mode": {
    "name": "ipython",
    "version": 3
   },
   "file_extension": ".py",
   "mimetype": "text/x-python",
   "name": "python",
   "nbconvert_exporter": "python",
   "pygments_lexer": "ipython3",
   "version": "3.9.13"
  }
 },
 "nbformat": 4,
 "nbformat_minor": 2
}
