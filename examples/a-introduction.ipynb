{
 "cells": [
  {
   "cell_type": "markdown",
   "metadata": {},
   "source": [
    "# Overview\n",
    "\n",
    "In this notebook, I demonstrate use of the most basic building blocks of `conproc`: `WorkerResource` and `PriorityQueue`.\n"
   ]
  },
  {
   "cell_type": "code",
   "execution_count": 1,
   "metadata": {},
   "outputs": [],
   "source": [
    "import sys\n",
    "sys.path.append('../')\n",
    "import coproc"
   ]
  },
  {
   "cell_type": "markdown",
   "metadata": {},
   "source": [
    "## `WorkerResource` and Managing Worker Processes\n",
    "\n",
    "The `WorkerResource` object is the most basic tool for working with concurrent processes. It manages both `Process` and `Pipe` objects wrapped in multi-channel priority queues with robust messaging support. The most common use case is to create a `WorkerResource` object and then manage the resource using a wrapper object. While it does have a built-in context manager for starting and ending the process, you will probably want to create your own outer context manager using the basic `.start()`, `.stop()`, and `.join()` methods.\n",
    "\n",
    "The `WorkerResource` constructor accepts a class that is used to manage the process. That class' `__init__` method will be called in the host process with a single `PriorityMessenger` argument, and you may pass additional keyword arguments through the `.start()` method. The resulting instance will then be passed to the process for the duration of the `__call__` method, which does not accept any arguments on its own - you must pass any relevant data through the constructor when starting the process.\n",
    "\n",
    "The following class maintains the state of an example worker process. As long as it is alive, it will simply receive data and echo the data back to the host process. Notice that `__init__` accepts the messenger and an additional optional parameter. The messenger is passed automatically, whereas the keyword arguments are passed through the `.start()` method. I will discuss the `.receive_blocking()` and `.send_norequest()` methods in more detail later in the messaging section."
   ]
  },
  {
   "cell_type": "code",
   "execution_count": 2,
   "metadata": {},
   "outputs": [
    {
     "data": {
      "text/plain": [
       "WorkerResource(target=<function custom_echo_process at 0x785515c40ea0>, messenger_type=<class 'coproc.messenger.prioritymessenger.PriorityMessenger'>, method=None, _proc=None, _messenger=None)"
      ]
     },
     "execution_count": 2,
     "metadata": {},
     "output_type": "execute_result"
    }
   ],
   "source": [
    "import os\n",
    "    \n",
    "def custom_echo_process(messenger: coproc.PriorityMessenger, verbose: bool = False):\n",
    "    '''Main process loop.'''\n",
    "    if verbose: print(f'Starting process {os.getpid()}')\n",
    "    \n",
    "    while True:\n",
    "        # wait until a new message is received\n",
    "        data = messenger.receive_blocking()\n",
    "        if verbose: print(f'process {os.getpid()} received: {data}')\n",
    "        \n",
    "        # send the same data back\n",
    "        messenger.send_norequest(data)\n",
    "\n",
    "resource = coproc.WorkerResource(custom_echo_process)\n",
    "resource"
   ]
  },
  {
   "cell_type": "markdown",
   "metadata": {},
   "source": [
    "You can see here that the `verbose` argument is passed through start."
   ]
  },
  {
   "cell_type": "code",
   "execution_count": 3,
   "metadata": {},
   "outputs": [
    {
     "name": "stdout",
     "output_type": "stream",
     "text": [
      "Starting process 1005612\n"
     ]
    }
   ],
   "source": [
    "import time\n",
    "\n",
    "resource.start(verbose=True)\n",
    "time.sleep(0.1)\n",
    "resource.terminate()\n",
    "\n",
    "# wait for process to terminate\n",
    "while resource.is_alive():\n",
    "    pass\n",
    "\n",
    "resource.start()\n",
    "time.sleep(0.1)\n",
    "resource.terminate()"
   ]
  },
  {
   "cell_type": "markdown",
   "metadata": {},
   "source": [
    "#### Context Managers\n",
    "\n",
    "The resource should always be used in some type of context manager, and we can use the built-in context manager for simple applications. The downside to this is that you cannot pass any arguments to `.start()`."
   ]
  },
  {
   "cell_type": "code",
   "execution_count": 4,
   "metadata": {},
   "outputs": [
    {
     "name": "stdout",
     "output_type": "stream",
     "text": [
      "<class 'coproc.worker_resource.worker_resource.WorkerResource'>\n"
     ]
    }
   ],
   "source": [
    "with coproc.WorkerResource(custom_echo_process) as w:\n",
    "    print(type(w))"
   ]
  },
  {
   "cell_type": "markdown",
   "metadata": {},
   "source": [
    "Typically it will be better to create your own wrapper objects for cleaner interfaces. Here I use a dataclass that creates a `WorkerResource` in the constructor and provide the most basic context management."
   ]
  },
  {
   "cell_type": "code",
   "execution_count": 5,
   "metadata": {},
   "outputs": [
    {
     "name": "stdout",
     "output_type": "stream",
     "text": [
      "EchoResource(verbose=True, resource=WorkerResource(target=<function custom_echo_process at 0x785515c40ea0>, messenger_type=<class 'coproc.messenger.prioritymessenger.PriorityMessenger'>, method=None, _proc=<ForkProcess name='ForkProcess-4' pid=1005619 parent=1005583 started>, _messenger=PriorityMessenger(pipe=<multiprocessing.connection.Connection object at 0x785515c7f510>, queue=PriorityMultiQueue(queues={}), request_ctr=RequestCtr(requests=Counter(), replies=Counter(), sent=Counter(), received=Counter()))))\n"
     ]
    }
   ],
   "source": [
    "import typing\n",
    "import dataclasses\n",
    "\n",
    "@dataclasses.dataclass\n",
    "class EchoResource:\n",
    "    verbose: bool = False\n",
    "    resource: coproc.WorkerResource = dataclasses.field(default_factory=lambda: coproc.WorkerResource(custom_echo_process))\n",
    "    \n",
    "    def __enter__(self) -> typing.Self:\n",
    "        self.resource.start(verbose=self.verbose)\n",
    "        return self\n",
    "    \n",
    "    def __exit__(self, *args):\n",
    "        self.resource.terminate()\n",
    "\n",
    "    @property\n",
    "    def messenger(self) -> coproc.PriorityMessenger:\n",
    "        '''Expose the messenger to the user.'''\n",
    "        return self.resource.messenger\n",
    "\n",
    "with EchoResource(verbose=True) as w:\n",
    "    print(w)"
   ]
  },
  {
   "cell_type": "markdown",
   "metadata": {},
   "source": [
    "# Messaging Between Processes: `PriorityMessenger` and `MultiMessenger`\n",
    "\n",
    "The `coproc` messengers are wrappers around standard `multiprocessing.Pipe` objects that create an interface for exchange between processes. There are two primary messenger types that can be used for communications: `PriorityMessenger` and `MultiMessenger`. While they both support the request and channel interfaces, only `PriorityMessenger` supports priorities, as the name would imply. \n",
    "\n",
    "\n",
    "### Sending Messages\n",
    "\n",
    "**Basic communication.**\n",
    "    + `send_norequest()` sends a message without expecting a reply. This is the most basic method for sending data between processes. Specify `channel_id` to send to a specific channel (`None` by default, which is actually a valid channel). The simplest use of messager would be to to send messages back and forth using `send_norequest()`. This is most similar to `pipe.send()` and `pipe.recv()` except that it manages multiple channels (see next section).\n",
    "\n",
    "1. **Channels.** Every message is associated with a channel, which can be any hashable object. \n",
    "    + You can specify the channel using the `channel_id` parameter of most send/receive functions, and the default is `None` - itself a valid, hashable channel id which you may use by default.\n",
    "\n",
    "2. **Requests.** Using special request and reply methods enables the messenger to track the number of requests sent and replies received so that it can wait for replies to a specific set of requests.\n",
    "    + The requesting process would use `send_request()` to send a request, and the other process would use `send_reply()` so that the requesting process knows that the message is a reply.\n",
    "    + Note that the request tracking happens on a per-channel basis, so you can send multiple requests on different channels and wait for replies to each set of requests.\n",
    "    + `send_request()` will send a message while also incrementing the count of requested messages for the given channel.\n",
    "    + `send_reply()` will send a message while also incrementing the count of received replies for the recipient channel.\n",
    "\n",
    "3. **Priorities.** By default, the `PriorityMessenger` looks for a `priority` attribute on any messages being sent, and will sort the messages into a priority queue, rather than a standard fifo queue. If the sent item does not have this attribute, by default it is set to `-inf`.\n",
    "\n",
    "4. **Special Messages.** There are several types of special messages that bypass the channel and priority queue interface - they are handled as soon as the messages are received (which occurs when any receive function is called), prior to placement in the queue.\n",
    "    + `send_error()` will send an exception object to the other messenger that will then be raised directly in the recipient process. I recommend using custom exceptions for this behavior.\n",
    "    + `send_close_request()` will send a message that directly raises a `ResourceRequestedClose` exception in the recipient process. Catch this exception in your processes to handle a shutdown. You may want to use this in conjunction with the `.join()` method, which waits for the process to finish.\n",
    "\n",
    "### Receiving Messages\n",
    "\n",
    "Any time one of the following receive methods is called, data will be transferred from the `multiprocessing.Pipe` into the message queue. The following diagram shows the basic flow of data from the pipe to the receive methods.\n",
    "\n",
    "![Messenger Diagram](https://storage.googleapis.com/public_data_09324832787/messaging_interface.svg)\n",
    "\n",
    "The receive method you use depends on the desigred behavior.\n",
    "\n",
    "+ `available()` loads data from pipe into the queue, and returns the number of available messages on the specified channel. \n",
    "+ `receive_available()` calls `available()` and returns all available messages if there are any. Otherwise, returns an empty list.\n",
    "+ `receive_blocking()` blocks until a message is received on the specified channel, then returns the message.\n",
    "+ `receive_remaining()` yields replies on the specified channel until all outstanding requests have been replied to."
   ]
  },
  {
   "cell_type": "code",
   "execution_count": 6,
   "metadata": {},
   "outputs": [
    {
     "name": "stdout",
     "output_type": "stream",
     "text": [
      "Starting process 1005620\n",
      "process 1005620 received: hello\n",
      "hello\n"
     ]
    }
   ],
   "source": [
    "with EchoResource(verbose=True) as w:\n",
    "    w.resource.messenger.send_norequest('hello')\n",
    "    print(w.messenger.receive_blocking())"
   ]
  },
  {
   "cell_type": "markdown",
   "metadata": {},
   "source": [
    "#### Requests\n",
    "\n",
    "The messenger also has support for handling messages that act as requests and replies. Alternatively, you may use a combination of `.send_request` (on the host side) and `.send_reply` (on the worker side) to send requests that are expected to have replies. You can check the number of remaining messages using `.remaining()`, and call `.receive_remaining()` to block while retrieving all remaining messages. You, the client, must manually manage the request-reply pattern, but this is intended to be used as a way of keeping track of how many messages are expected to be received."
   ]
  },
  {
   "cell_type": "code",
   "execution_count": 7,
   "metadata": {},
   "outputs": [
    {
     "name": "stdout",
     "output_type": "stream",
     "text": [
      "0\n",
      "1\n",
      "hello\n",
      "0\n",
      "0\n",
      "1\n",
      "2\n"
     ]
    }
   ],
   "source": [
    "def another_echo_process(messenger: coproc.PriorityMessenger):\n",
    "    '''Main process loop.'''\n",
    "    while True:\n",
    "        data = messenger.receive_blocking()\n",
    "        messenger.send_reply(data)\n",
    "            \n",
    "with coproc.WorkerResource(another_echo_process) as w:\n",
    "    print(w.messenger.remaining())\n",
    "    w.messenger.send_request('hello')\n",
    "    print(w.messenger.remaining())\n",
    "    print(w.messenger.receive_blocking())\n",
    "    print(w.messenger.remaining())\n",
    "    \n",
    "    [w.messenger.send_request(i) for i in range(3)]\n",
    "    w.messenger.remaining()\n",
    "    for d in w.messenger.receive_remaining():\n",
    "        print(d)"
   ]
  },
  {
   "cell_type": "markdown",
   "metadata": {},
   "source": [
    "#### Message Availability\n",
    "\n",
    "When juggling between receiving messages and other tasks, it is often helpful to retrieve all messages that are available in the queue at a given point in time. Check how many messages have been received using `.available()` and retrieve available messages using `.receive_available()` instead of `.receive_blocking()`."
   ]
  },
  {
   "cell_type": "code",
   "execution_count": 8,
   "metadata": {},
   "outputs": [
    {
     "name": "stdout",
     "output_type": "stream",
     "text": [
      "0\n",
      "0\n",
      "1\n",
      "['hello']\n"
     ]
    }
   ],
   "source": [
    "with coproc.WorkerResource(another_echo_process) as w:\n",
    "    print(w.messenger.available())\n",
    "    w.messenger.send_request('hello')\n",
    "    print(w.messenger.available())\n",
    "    time.sleep(0.1) # wait for process to reply\n",
    "    print(w.messenger.available())\n",
    "    print(w.messenger.receive_available())"
   ]
  },
  {
   "cell_type": "markdown",
   "metadata": {},
   "source": [
    "#### Custom Messages and Priorities\n",
    "\n",
    "The `PriorityMessenger` includes a priority system which you can use by creating custom message types. It determines the priority of a message by looking for a `priority` attribute on the data being passed. Here I create two types of messages, each with a different priority - note that lower priority value means it will be returned first. This follows the behavior of the `queue.PriorityQueue`."
   ]
  },
  {
   "cell_type": "code",
   "execution_count": 11,
   "metadata": {},
   "outputs": [
    {
     "name": "stdout",
     "output_type": "stream",
     "text": [
      "[DataMessage(data=1, priority=1)]\n",
      "[WarningMessage(message='negative number', priority=0), DataMessage(data=-1, priority=1)]\n"
     ]
    }
   ],
   "source": [
    "@dataclasses.dataclass\n",
    "class WarningMessage:\n",
    "    message: str\n",
    "    priority: int = 0 # higher priority\n",
    "\n",
    "@dataclasses.dataclass\n",
    "class DataMessage:\n",
    "    data: int\n",
    "    priority: int = 1 # lower priority\n",
    "    \n",
    "def athird_echo_process(messenger: coproc.PriorityMessenger):\n",
    "    '''Main process loop.'''\n",
    "    while True:\n",
    "        num = messenger.receive_blocking()\n",
    "        messenger.send_reply(DataMessage(num))\n",
    "        if num < 0:\n",
    "            messenger.send_norequest(WarningMessage('negative number'))\n",
    "    \n",
    "with coproc.WorkerResource(athird_echo_process) as w:\n",
    "    w.messenger.send_request(1)\n",
    "    time.sleep(0.1)\n",
    "    print(w.messenger.receive_available())\n",
    "    \n",
    "    # notice the warning appears in the queue first\n",
    "    w.messenger.send_request(-1)\n",
    "    time.sleep(0.1)\n",
    "    print(w.messenger.receive_available())"
   ]
  },
  {
   "cell_type": "markdown",
   "metadata": {},
   "source": [
    "#### Message Channels\n",
    "\n",
    "In more complicated situations, there may be cases when you want to communicate on separate messaging channels. Fortunately, `PriorityMessenger` can also handle that, as most methods accept a `channel_id` parameter that is defaulted to `None`. The `channel_id` can be any hashable object, so `None` is actually the channel being communicated on for most of the previous examples. Each channel keeps track of its own request/receive counts, and each can make a blocking receive until they receive the expected message. In this way, the channels essentially operate as separate pipes.\n",
    "\n",
    "In the following example, I use a single channel for data sent from the host to the client process, and two channels for data sent from the client to the host. Whereas the `DATA` channel is used to transmit regular data synchronously between the processes, `WARNING` is used to transmit data asynchronously from the client process to the host. Note that we use the same channel for the bidirectional communication from the host to the client process because we are taking advantage of the request interface."
   ]
  },
  {
   "cell_type": "code",
   "execution_count": 14,
   "metadata": {},
   "outputs": [
    {
     "name": "stdout",
     "output_type": "stream",
     "text": [
      "messenger.remaining(Channels.DATA)=1\n",
      "messenger.remaining(Channels.DATA)=0\n",
      "warning: data must be positive\n",
      "hello\n",
      "messenger.remaining(Channels.DATA)=1\n",
      "messenger.remaining(Channels.DATA)=0\n",
      "warning: data must be positive\n",
      "world\n",
      "messenger.remaining(Channels.DATA)=1\n",
      "messenger.remaining(Channels.DATA)=0\n",
      "hello world!\n"
     ]
    }
   ],
   "source": [
    "import enum\n",
    "class Channels(enum.Enum):\n",
    "    DATA = 1\n",
    "    WARNING = 2\n",
    "\n",
    "def afourth_echo_process(messenger: coproc.PriorityMessenger):\n",
    "    while True:\n",
    "        try:\n",
    "            data = messenger.receive_blocking(Channels.DATA)\n",
    "        except coproc.ResourceRequestedClose:\n",
    "            break\n",
    "        \n",
    "        if len(data) < 10:\n",
    "            # send a message on the warning channel\n",
    "            messenger.send_norequest(f'warning: data must be positive', Channels.WARNING)\n",
    "        \n",
    "        # either way, echo result\n",
    "        messenger.send_reply(data, Channels.DATA)\n",
    "\n",
    "\n",
    "def receive_print_warnings(message: str, messenger: coproc.PriorityMessenger) -> str:\n",
    "    messenger.send_request(message, Channels.DATA)\n",
    "    print(f'{messenger.remaining(Channels.DATA)=}')\n",
    "    \n",
    "    data = messenger.receive_blocking(Channels.DATA)\n",
    "    print(f'{messenger.remaining(Channels.DATA)=}')\n",
    "    \n",
    "    for warning in messenger.receive_available(Channels.WARNING):\n",
    "        print(warning)\n",
    "        \n",
    "    return data\n",
    "\n",
    "with coproc.WorkerResource(afourth_echo_process) as w:\n",
    "    print(receive_print_warnings('hello', w.messenger))\n",
    "    print(receive_print_warnings('world', w.messenger))\n",
    "    print(receive_print_warnings('hello world!', w.messenger))"
   ]
  },
  {
   "cell_type": "markdown",
   "metadata": {},
   "source": [
    "#### System Messages\n",
    "\n",
    "There are two special types of messages that will be prioritized over all other messages: sending errors using `send_error()` (typically sent from worker process) and sending a termination signal using `send_close_request()` (typically sent by the host process). The `send_error()` message will send a signal that raises the sent exception on the client side, and `send_close_request()` will raise a `ResourceRequestedClose` exception on the worker side. You will need to handle these cases on both sides of the pipe."
   ]
  },
  {
   "cell_type": "code",
   "execution_count": 16,
   "metadata": {},
   "outputs": [
    {
     "name": "stderr",
     "output_type": "stream",
     "text": [
      "NoneType: None\n"
     ]
    },
    {
     "name": "stdout",
     "output_type": "stream",
     "text": [
      "1\n",
      "<class 'ValueError'> data must be positive\n",
      "False\n"
     ]
    }
   ],
   "source": [
    "def afifth_echo_process(messenger: coproc.PriorityMessenger):\n",
    "    while True:\n",
    "        try:\n",
    "            data = messenger.receive_blocking()\n",
    "        except coproc.ResourceRequestedClose:\n",
    "            break            \n",
    "        if data >= 0:\n",
    "            messenger.send_reply(data)\n",
    "        else:\n",
    "            messenger.send_error(ValueError('data must be positive'))\n",
    "\n",
    "\n",
    "\n",
    "with coproc.WorkerResource(afifth_echo_process) as w:\n",
    "    \n",
    "    # regular request/reply\n",
    "    w.messenger.send_request(1)\n",
    "    print(w.messenger.receive_blocking())\n",
    "    \n",
    "    # this request will elicit an error\n",
    "    w.messenger.send_request(-1)\n",
    "    try:\n",
    "        print(w.messenger.receive_blocking())\n",
    "    except ValueError as e:\n",
    "        print(type(e), e)\n",
    "        \n",
    "    w.messenger.send_close_request()\n",
    "    w.join()\n",
    "    time.sleep(0.5)\n",
    "    print(w.is_alive())"
   ]
  },
  {
   "cell_type": "markdown",
   "metadata": {},
   "source": [
    "`WorkerResource` and `PriorityMessenger` serve as essential building blocks for building interfaces to concurrent processes, including some that appear as part of this package. See the documentation for examples of those.\n",
    "\n",
    "## An Inspirational Example\n",
    "\n",
    "The following example shows a process dedicated to controlling a process which prints to the screen. It is a particularly good example because it does something that would not be possible in a single process nor using map functions as part of the multiprocessing package."
   ]
  },
  {
   "cell_type": "code",
   "execution_count": 17,
   "metadata": {},
   "outputs": [],
   "source": [
    "@dataclasses.dataclass\n",
    "class StartPrinting:\n",
    "    pass\n",
    "\n",
    "@dataclasses.dataclass\n",
    "class StopPrinting:\n",
    "    pass\n",
    "\n",
    "@dataclasses.dataclass\n",
    "class ChangePrintBehavior:\n",
    "    print_frequency: int\n",
    "    print_char: str\n",
    "    \n",
    "@dataclasses.dataclass\n",
    "class Receipt:\n",
    "    pass"
   ]
  },
  {
   "cell_type": "code",
   "execution_count": 18,
   "metadata": {},
   "outputs": [],
   "source": [
    "class AlreadyPrintingError(Exception):\n",
    "    '''Raised when user requests start but process is already printing.'''\n",
    "\n",
    "class AlreadyNotPrintingError(Exception):\n",
    "    '''Raised when user requests stop but process is already not printing.'''"
   ]
  },
  {
   "cell_type": "code",
   "execution_count": 27,
   "metadata": {},
   "outputs": [],
   "source": [
    "import typing\n",
    "\n",
    "@dataclasses.dataclass\n",
    "class PrintingProcess:\n",
    "    print_frequency: int # these must be set at worker start\n",
    "    print_char: str\n",
    "    keep_printing: bool # this can optionally be set\n",
    "    \n",
    "    def __call__(self, messenger: coproc.PriorityMessenger):\n",
    "        print(f'{self.keep_printing=}')\n",
    "        while True:\n",
    "            try:\n",
    "                # if we're not printing, keep waiting for a new message\n",
    "                msgs = messenger.receive_available()#blocking = not self.keep_printing)\n",
    "            except IndexError:\n",
    "                msgs = []\n",
    "                \n",
    "            for msg in msgs:\n",
    "                self.handle_message(messenger, msg)\n",
    "                \n",
    "            if self.keep_printing:\n",
    "                print(self.print_char, end='', flush=True)\n",
    "                time.sleep(self.print_frequency)\n",
    "    \n",
    "    def handle_message(self, messenger: coproc.PriorityMessenger, msg: typing.Union[StartPrinting, StopPrinting, ChangePrintBehavior]):\n",
    "        if isinstance(msg, StartPrinting):\n",
    "            if self.keep_printing:\n",
    "                messenger.send_error(AlreadyPrintingError())\n",
    "            self.keep_printing = True\n",
    "            \n",
    "        elif isinstance(msg, StopPrinting):\n",
    "            if not self.keep_printing:\n",
    "                messenger.send_error(AlreadyNotPrintingError())\n",
    "            self.keep_printing = False\n",
    "            \n",
    "        elif isinstance(msg, ChangePrintBehavior):\n",
    "            self.print_frequency = msg.print_frequency\n",
    "            self.print_char = msg.print_char\n",
    "            \n",
    "        else:\n",
    "            # process should die in this case\n",
    "            messenger.send_error(NotImplementedError(f'Unknown message type: {type(msg)}'))\n",
    "        \n",
    "        messenger.send_reply(Receipt())\n"
   ]
  },
  {
   "cell_type": "code",
   "execution_count": 28,
   "metadata": {},
   "outputs": [],
   "source": [
    "@dataclasses.dataclass\n",
    "class PrintProcessController:\n",
    "    messenger: coproc.PriorityMessenger\n",
    "    def start_printing(self):\n",
    "        self.messenger.send_request(StartPrinting())\n",
    "        return self.messenger.receive_blocking() # wait for receipt\n",
    "    \n",
    "    def stop_printing(self):\n",
    "        self.messenger.send_request(StopPrinting())\n",
    "        return self.messenger.receive_blocking() # wait for receipt\n",
    "    \n",
    "    def change_behavior(self, print_frequency: int, print_char: str):\n",
    "        self.messenger.send_request(ChangePrintBehavior(print_frequency, print_char))\n",
    "        return self.messenger.receive_blocking() # wait for receipt\n",
    "\n",
    "class Printer:\n",
    "    \n",
    "    def __init__(self, print_frequency: int, print_char: str, start_printing: bool = False):\n",
    "        target = PrintingProcess(\n",
    "            print_frequency = print_frequency, \n",
    "            print_char = print_char, \n",
    "            keep_printing = start_printing\n",
    "        )\n",
    "        self.resource = coproc.WorkerResource(target=target)\n",
    "        \n",
    "    def __enter__(self) -> PrintProcessController:\n",
    "        self.resource.start()\n",
    "        return PrintProcessController(self.resource.messenger)\n",
    "    \n",
    "    def __exit__(self, *args):\n",
    "        self.resource.terminate()"
   ]
  },
  {
   "cell_type": "code",
   "execution_count": 29,
   "metadata": {},
   "outputs": [
    {
     "name": "stdout",
     "output_type": "stream",
     "text": [
      "self.keep_printing=False\n"
     ]
    },
    {
     "name": "stdout",
     "output_type": "stream",
     "text": [
      "\n",
      "----\n",
      "\n",
      "----\n",
      "\n",
      "----\n",
      "xxxxyyyyyyyyyyyyyyyyyyy\n",
      "----\n",
      "\n",
      "----\n"
     ]
    },
    {
     "name": "stderr",
     "output_type": "stream",
     "text": [
      "NoneType: None\n"
     ]
    },
    {
     "name": "stdout",
     "output_type": "stream",
     "text": [
      "Already not printing! oh well.\n"
     ]
    }
   ],
   "source": [
    "with Printer(print_frequency=0.05, print_char='x', start_printing=False) as p:\n",
    "    print('\\n----')\n",
    "    time.sleep(0.2) # shouldnot be printing\n",
    "    print('\\n----')\n",
    "    p.start_printing()\n",
    "    print('\\n----')\n",
    "    time.sleep(0.2) # should be printing\n",
    "    print('\\n----')\n",
    "    p.change_behavior(0.01, 'y')\n",
    "    print('\\n----')\n",
    "    time.sleep(0.2) # should be printing\n",
    "    p.stop_printing()\n",
    "    time.sleep(0.2) # should not be printing\n",
    "    \n",
    "    try: # this error is being sent by the printer process\n",
    "        p.stop_printing()\n",
    "    except AlreadyNotPrintingError:\n",
    "        print('Already not printing! oh well.')"
   ]
  }
 ],
 "metadata": {
  "kernelspec": {
   "display_name": "base",
   "language": "python",
   "name": "python3"
  },
  "language_info": {
   "codemirror_mode": {
    "name": "ipython",
    "version": 3
   },
   "file_extension": ".py",
   "mimetype": "text/x-python",
   "name": "python",
   "nbconvert_exporter": "python",
   "pygments_lexer": "ipython3",
   "version": "3.11.5"
  }
 },
 "nbformat": 4,
 "nbformat_minor": 2
}
